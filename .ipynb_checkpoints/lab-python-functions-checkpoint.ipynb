{
 "cells": [
  {
   "cell_type": "markdown",
   "id": "25d7736c-ba17-4aff-b6bb-66eba20fbf4e",
   "metadata": {},
   "source": [
    "# Lab | Functions"
   ]
  },
  {
   "cell_type": "markdown",
   "id": "0c581062-8967-4d93-b06e-62833222f930",
   "metadata": {
    "tags": []
   },
   "source": [
    "## Exercise: Managing Customer Orders with Functions\n",
    "\n",
    "In the previous exercise, you improved the code for managing customer orders by using loops and flow control. Now, let's take it a step further and refactor the code by introducing functions.\n",
    "\n",
    "Follow the steps below to complete the exercise:\n",
    "\n",
    "1. Define a function named `initialize_inventory` that takes `products` as a parameter. Inside the function, implement the code for initializing the inventory dictionary using a loop and user input.\n",
    "\n",
    "2. Define a function named `get_customer_orders` that takes no parameters. Inside the function, implement the code for prompting the user to enter the product names using a loop. The function should return the `customer_orders` set.\n",
    "\n",
    "3. Define a function named `update_inventory` that takes `customer_orders` and `inventory` as parameters. Inside the function, implement the code for updating the inventory dictionary based on the customer orders.\n",
    "\n",
    "4. Define a function named `calculate_order_statistics` that takes `customer_orders` and `products` as parameters. Inside the function, implement the code for calculating the order statistics (total products ordered, and percentage of unique products ordered). The function should return these values.\n",
    "\n",
    "5. Define a function named `print_order_statistics` that takes `order_statistics` as a parameter. Inside the function, implement the code for printing the order statistics.\n",
    "\n",
    "6. Define a function named `print_updated_inventory` that takes `inventory` as a parameter. Inside the function, implement the code for printing the updated inventory.\n",
    "\n",
    "7. Call the functions in the appropriate sequence to execute the program and manage customer orders.\n",
    "\n",
    "Hints for functions:\n",
    "\n",
    "- Consider the input parameters required for each function and their return values.\n",
    "- Utilize function parameters and return values to transfer data between functions.\n",
    "- Test your functions individually to ensure they work correctly.\n",
    "\n",
    "\n"
   ]
  },
  {
   "cell_type": "code",
   "execution_count": null,
   "id": "433eb0a4",
   "metadata": {},
   "outputs": [],
   "source": [
    "def initialize_inventory(products):\n",
    "    print(\"Let's define the inventory.\")\n",
    "    inventory = {}\n",
    "    for product in products:\n",
    "        inventory[product] = check_if_positive_integer(f\"Please enter the available quantity for {product}: \")\n",
    "    linebreak()\n",
    "    print(\"The current inventory is:\",inventory)\n",
    "    return inventory\n",
    "\n",
    "def check_if_positive_integer(question):\n",
    "    '''Returns input from user that is a positive integer.\n",
    "    Takes as parameter the question, checks for errors.'''\n",
    "    while True:\n",
    "        try:\n",
    "            user_input = int(input(question))\n",
    "            if user_input >= 0:\n",
    "                return user_input\n",
    "            else:\n",
    "                print(\"Please add a positive number.\")\n",
    "        except ValueError:\n",
    "            print(\"Invalid input.\")\n",
    "            \n",
    "def linebreak():\n",
    "    '''Prints a linebreak'''\n",
    "    print(\"\\n\")\n",
    "    \n",
    "def question_yes_no(question):\n",
    "    while True:\n",
    "        user_input = input(question)\n",
    "        if user_input.strip().lower() == \"yes\":\n",
    "            return True\n",
    "        elif user_input.strip().lower() == \"no\":\n",
    "            return False\n",
    "        else:\n",
    "            print(\"Invalid input, please enter only yes/no.\\n\")\n",
    "\n",
    "def product_check(products):\n",
    "    while True:\n",
    "        product_to_be_added = input(f\"Please enter the name of the product the customer wants to order\\nfrom {'/ '.join(products)}: \")\n",
    "        if product_to_be_added.strip().lower() in products:\n",
    "            return product_to_be_added\n",
    "        else:\n",
    "            print(\"Invalid input\")\n",
    "            \n",
    "def get_customer_orders(products):  # here I added parameters, cause I wanted to ensure that only valid products will be added\n",
    "    add_product_mask = True\n",
    "    customer_orders = []  # I am making it a list to allow for duplicated values\n",
    "    while add_product_mask == True:  \n",
    "        customer_orders.append(product_check(products))\n",
    "        add_product_mask = question_yes_no(\"Do you want to add another product? (yes/no): \")\n",
    "    print(\"Order input is received.\")\n",
    "    return customer_orders\n",
    "\n",
    "def update_inventory(customer_orders, inventory):\n",
    "    for item in customer_orders:\n",
    "        if inventory[item]<1:\n",
    "            print(f\"There isn't any product ({item}) left in the inventory, please check the order\")\n",
    "        inventory[item] -=1\n",
    "    return inventory\n",
    "\n",
    "def calculate_order_statistics(customer_orders, products):\n",
    "    total_unique_products_ordered = len(set(customer_orders))\n",
    "    percentage_of_unique_products_ordered = total_unique_products_ordered * 100/ len(products)\n",
    "    return (total_unique_products_ordered,percentage_of_unique_products_ordered)\n",
    "\n",
    "def print_order_statistics(order_statistics):\n",
    "    print(\"Order Statistics:\\n\"\n",
    "     f\"Total Products Ordered: {order_statistics[0]}\\n\"\n",
    "     f\"Percentage of Unique Products Ordered: {round(order_statistics[1],2)}%\")\n",
    "    \n",
    "def print_updated_inventory(inventory):\n",
    "    print(\"The updated inventory is:\",inventory)  "
   ]
  },
  {
   "cell_type": "code",
   "execution_count": null,
   "id": "5635cb7c",
   "metadata": {
    "scrolled": false
   },
   "outputs": [],
   "source": [
    "products = [\"t-shirt\",\"mug\",\"hat\",\"book\",\"keychain\"]\n",
    "\n",
    "inventory=initialize_inventory(products)"
   ]
  },
  {
   "cell_type": "code",
   "execution_count": null,
   "id": "8ef81658",
   "metadata": {
    "scrolled": true
   },
   "outputs": [],
   "source": [
    "customer_orders = get_customer_orders(products)"
   ]
  },
  {
   "cell_type": "code",
   "execution_count": null,
   "id": "4f1400fc",
   "metadata": {},
   "outputs": [],
   "source": [
    "order_statistics = (calculate_order_statistics(customer_orders, products))"
   ]
  },
  {
   "cell_type": "code",
   "execution_count": null,
   "id": "e1484a4f",
   "metadata": {},
   "outputs": [],
   "source": [
    "print_order_statistics(order_statistics)"
   ]
  },
  {
   "cell_type": "code",
   "execution_count": null,
   "id": "388eaa48",
   "metadata": {},
   "outputs": [],
   "source": [
    "inventory = update_inventory(customer_orders, inventory)"
   ]
  },
  {
   "cell_type": "code",
   "execution_count": null,
   "id": "fee6cafd",
   "metadata": {},
   "outputs": [],
   "source": [
    "print_updated_inventory(inventory)"
   ]
  }
 ],
 "metadata": {
  "kernelspec": {
   "display_name": "Python 3 (ipykernel)",
   "language": "python",
   "name": "python3"
  },
  "language_info": {
   "codemirror_mode": {
    "name": "ipython",
    "version": 3
   },
   "file_extension": ".py",
   "mimetype": "text/x-python",
   "name": "python",
   "nbconvert_exporter": "python",
   "pygments_lexer": "ipython3",
   "version": "3.11.5"
  }
 },
 "nbformat": 4,
 "nbformat_minor": 5
}
